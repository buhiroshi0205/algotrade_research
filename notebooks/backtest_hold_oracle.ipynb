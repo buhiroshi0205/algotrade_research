{
 "cells": [
  {
   "cell_type": "code",
   "execution_count": 1,
   "id": "c88772bd",
   "metadata": {},
   "outputs": [],
   "source": [
    "import numpy as np\n",
    "import pandas as pd\n",
    "import gym\n",
    "from datetime import datetime, timedelta\n",
    "import matplotlib.pyplot as plt\n",
    "\n",
    "daily_prices = pd.read_csv('../data/dfs/daily/price.csv', index_col=0)\n",
    "daily_prices['Dates'] = pd.to_datetime(daily_prices['Dates'])\n",
    "daily_prices = daily_prices.set_index('Dates')"
   ]
  },
  {
   "cell_type": "code",
   "execution_count": 2,
   "id": "891b1928",
   "metadata": {},
   "outputs": [
    {
     "name": "stdout",
     "output_type": "stream",
     "text": [
      "[array([2000, 2002, 2002, 2003]), array([2003, 2005, 2005, 2006]), array([2006, 2008, 2008, 2009]), array([2009, 2011, 2011, 2012]), array([2012, 2014, 2014, 2015]), array([2015, 2017, 2017, 2018]), array([2018, 2020, 2020, 2021])]\n"
     ]
    }
   ],
   "source": [
    "train_val_splits = []\n",
    "block = np.array([2000,2002,2002,2003])\n",
    "for i in range(7):\n",
    "    train_val_splits.append(block+[3*i,3*i,3*i,3*i])\n",
    "    \n",
    "print(train_val_splits)"
   ]
  },
  {
   "cell_type": "code",
   "execution_count": 3,
   "id": "4749cb5b",
   "metadata": {},
   "outputs": [],
   "source": [
    "state_dict = {}\n",
    "for i in daily_prices.columns:\n",
    "    tmpdf = pd.read_csv('../data/Day Data with Volatility/{} MK Equity.csv'.format(i))\n",
    "    tmpdf.Dates = pd.to_datetime(tmpdf.Dates)\n",
    "    tmpdf = tmpdf.set_index('Dates')\n",
    "    state_dict[i]=tmpdf"
   ]
  },
  {
   "cell_type": "code",
   "execution_count": 4,
   "id": "a75759e4",
   "metadata": {},
   "outputs": [],
   "source": [
    "class DayEnv(gym.Env):\n",
    "    \n",
    "    def __init__(self, prices_df, timeframe, starting_balance=1000000, pfstate=False):\n",
    "        super(DayEnv, self).__init__()\n",
    "        self.prices = prices_df[f'{timeframe[0]}-1-1':f'{timeframe[1]}-1-1']\n",
    "        self.dates = self.prices.index\n",
    "        self.num_timesteps = len(self.dates)\n",
    "        self.symbols = self.prices.columns\n",
    "        self.action_space = gym.spaces.MultiDiscrete(tuple([3]*len(self.symbols)))\n",
    "        self.portfolio_in_state = pfstate\n",
    "        if self.portfolio_in_state:\n",
    "            self.observation_space = gym.spaces.Box(-1,1, shape=(2, len(self.symbols)))\n",
    "        else:\n",
    "            self.observation_space = gym.spaces.Box(-1,1, shape=(len(self.symbols),))\n",
    "        self.starting_balance = starting_balance\n",
    "        self.curr_portfolio = np.zeros(len(self.symbols))\n",
    "        self.transaction_cost = 0.025\n",
    "        \n",
    "        self.total_transaction_costs = [0.0, 0.0]\n",
    "\n",
    "        \n",
    "    def step(self, action: np.ndarray):\n",
    "        assert len(action) == len(self.symbols)\n",
    "        \n",
    "        sell_mask = np.logical_and((action == 0), self.curr_portfolio > 0)\n",
    "        #hold_mask = (action == 1)\n",
    "        buy_mask = (action == 2)\n",
    "        \n",
    "        curr_prices = self.prices.iloc[self.curr_idx].values\n",
    "        next_prices = self.prices.iloc[self.curr_idx + 1].values\n",
    "        \n",
    "        # First sell stocks\n",
    "        realized_profits = np.dot(curr_prices[sell_mask], self.curr_portfolio[sell_mask]) * (1-self.transaction_cost)\n",
    "        self.total_transaction_costs[0] += np.dot(curr_prices[sell_mask], self.curr_portfolio[sell_mask]) * (self.transaction_cost)\n",
    "\n",
    "        # Add realized profit to cash balance\n",
    "        self.cash_balance += realized_profits\n",
    "        self.curr_portfolio[sell_mask] = 0\n",
    "        \n",
    "        # Then buy stocks evenly with remaining balance\n",
    "        weights = np.zeros(action.shape)\n",
    "        weights[buy_mask] = action[buy_mask] / np.sum(action[buy_mask])\n",
    "        \n",
    "        new_shares = np.floor(self.cash_balance * weights / (curr_prices*(1+self.transaction_cost)))\n",
    "        shares_cost = np.dot(curr_prices, new_shares) * (1+self.transaction_cost)\n",
    "        \n",
    "        self.total_transaction_costs[1] += np.dot(curr_prices, new_shares) * self.transaction_cost\n",
    "        \n",
    "        self.curr_portfolio += new_shares\n",
    "        self.cash_balance -= shares_cost\n",
    "        self.curr_balance = self.cash_balance + np.dot(self.curr_portfolio, next_prices)\n",
    "        profits = self.curr_balance - self.last_balance\n",
    "        \n",
    "        reward = self._calc_reward(profits)\n",
    "        self.last_balance = self.curr_balance\n",
    "        \n",
    "        self.history.append(self.curr_balance)\n",
    "        self.curr_idx += 1\n",
    "        \n",
    "        done=False\n",
    "        if self.curr_idx == self.num_timesteps-1 or self.curr_balance <= 0:\n",
    "            done = True\n",
    "        return self._get_obs(), reward, done, {}\n",
    "\n",
    "    \n",
    "    def reset(self):\n",
    "        self.curr_idx = 0\n",
    "        self.cash_balance = self.starting_balance\n",
    "        self.curr_balance = self.starting_balance\n",
    "        self.last_balance = self.curr_balance\n",
    "        self.history = [self.curr_balance]\n",
    "        self.total_transaction_costs = [0.0, 0.0]\n",
    "        self.curr_portfolio = np.zeros(len(self.symbols))\n",
    "        return self._get_obs()\n",
    "\n",
    "    \n",
    "    def _calc_reward(self, profit):\n",
    "        return profit/self.curr_balance\n",
    "\n",
    "    def _get_obs(self):\n",
    "        if self.curr_idx == self.num_timesteps-1 or self.curr_balance <= 0:\n",
    "            oracle=np.zeros(self.observation_space.shape)\n",
    "        else:\n",
    "            oracle = np.clip(np.log(self.prices.values[self.curr_idx+1]/self.prices.values[self.curr_idx]),-1,1)\n",
    "        fractional = self.curr_portfolio * self.prices.iloc[self.curr_idx].values /self.curr_balance\n",
    "        if self.portfolio_in_state:\n",
    "            return np.vstack([oracle, fractional])\n",
    "        else:\n",
    "            return oracle\n"
   ]
  },
  {
   "cell_type": "code",
   "execution_count": 5,
   "id": "74151bc5",
   "metadata": {},
   "outputs": [
    {
     "name": "stdout",
     "output_type": "stream",
     "text": [
      "(array([-0.0212618 , -0.00509772,  0.02715099, -0.01086731, -0.01801851,\n",
      "       -0.00732604,  0.02509679, -0.01562532, -0.0093844 , -0.00718351,\n",
      "       -0.00739603, -0.00589972, -0.00489797, -0.03922071, -0.00468385,\n",
      "       -0.02932762, -0.03427024, -0.02620237, -0.0339262 , -0.0051414 ]), -0.02591871974174865, False, {})\n"
     ]
    },
    {
     "data": {
      "text/plain": [
       "654130.1358899999"
      ]
     },
     "execution_count": 5,
     "metadata": {},
     "output_type": "execute_result"
    }
   ],
   "source": [
    "test = DayEnv(daily_prices, train_val_splits[0][:2])\n",
    "test.reset()\n",
    "print(test.step(np.array([0,1,2,0,1,2,0,1,2,0,1,2,0,1,2,0,1,2,0,1])))\n",
    "test.step(np.array([0,0,2,0,0,2,0,0,0,0,0,0,0,0,0,0,0,0,0,0]))\n",
    "test.step(np.array([0,0,1,0,0,0,0,0,0,2,2,0,0,0,0,0,0,0,0,0]))\n",
    "\n",
    "654130.1358899999"
   ]
  },
  {
   "cell_type": "code",
   "execution_count": 6,
   "id": "0985e61c",
   "metadata": {},
   "outputs": [],
   "source": [
    "from stable_baselines3 import PPO, A2C\n",
    "import random\n",
    "import quantstats as qs\n",
    "\n",
    "class AgentTrainer():\n",
    "    \n",
    "    def __init__(self, prices_df, splits, num_episodes, eval_frequency, num_trials, model_params, pfstate = False):\n",
    "        self.splits_df = []\n",
    "        for split in splits:\n",
    "            self.splits_df.append((DayEnv(prices_df, split[:2], pfstate=False), DayEnv(prices_df, split[2:], pfstate=False)))\n",
    "        self.model_type = model_params['type']\n",
    "        # self.lr = model_params['lr']\n",
    "        self.num_episodes = num_episodes\n",
    "        self.eval_frequency = eval_frequency\n",
    "        self.prices_df = prices_df\n",
    "        self.num_trials=num_trials\n",
    "        \n",
    "        \n",
    "    def train(self, split_id=-1):\n",
    "        self.initialize(split_id)\n",
    "        print('Val Start Date:', self.val_env.dates.values[0])\n",
    "        for eps in range(self.num_episodes):\n",
    "            if (eps+1) % self.eval_frequency == 0:\n",
    "                self.validate(eps)\n",
    "            self.model.learn(total_timesteps=self.total_timesteps)\n",
    "        return self.mean_rewards, self.mean_sharpes\n",
    "        \n",
    "    def validate(self, episode):\n",
    "        for trial in range(self.num_trials):\n",
    "            done = False\n",
    "            obs = self.val_env.reset()\n",
    "            sum_r = 0\n",
    "            while not done:\n",
    "                action, _states = self.model.predict(obs, deterministic=True)\n",
    "                if True:\n",
    "                    f = open(\"results_oracle_final_0.025.txt\", \"a\")\n",
    "                    f.write(str(obs) + \"$\" + str(action) + \"\\n\")\n",
    "                    f.close()\n",
    "                obs, rewards, done, info = self.val_env.step(action)\n",
    "                sum_r += rewards\n",
    "            f = open(\"transaction_costs_oracle_0.025.txt\", \"a\")\n",
    "            f.write(str(episode) + \"$\" + str(trial) + \"$\" + str(self.val_env.total_transaction_costs) + \"\\n\")\n",
    "            f.close()\n",
    "            \n",
    "            f = open(\"curr_balance_costs_oracle_0.025.txt\", \"a\")\n",
    "            f.write(str(episode) + \"$\" + str(trial) + \"$\" + str(self.val_env.curr_balance) + \"\\n\")\n",
    "            f.close()\n",
    "            self.mean_rewards[trial,episode//self.eval_frequency] = sum_r\n",
    "            self.mean_sharpes[trial,episode//self.eval_frequency] = qs.stats.sharpe(pd.Series(self.val_env.history))\n",
    "        print(episode, self.mean_rewards[:, episode//self.eval_frequency].mean(),\n",
    "              self.mean_sharpes[:, episode//self.eval_frequency].mean())\n",
    "            \n",
    "    def initialize(self, split_id):\n",
    "        if split_id == -1:\n",
    "            choice_split = random.choice(self.splits_df)\n",
    "        else:\n",
    "            choice_split = self.splits_df[split_id]\n",
    "        self.train_env = choice_split[0]\n",
    "        self.val_env = choice_split[1]\n",
    "        self.total_timesteps = self.train_env.num_timesteps\n",
    "        if self.model_type == 'PPO':\n",
    "            self.model = PPO('MlpPolicy', self.train_env, learning_rate=1e-3, ent_coef=1e-3, gamma=0,\n",
    "                             policy_kwargs={'net_arch': [dict(pi=[100], vf=[100])]}, device='cpu')\n",
    "        elif self.model_type == 'A2C':\n",
    "            self.model = A2C('MlpPolicy', self.train_env, learning_rate=self.lr)\n",
    "        self.mean_rewards = np.zeros((self.num_trials,self.num_episodes//self.eval_frequency))\n",
    "        self.mean_sharpes = np.zeros((self.num_trials,self.num_episodes//self.eval_frequency))\n",
    "    \n",
    "    def backtest(self):\n",
    "        all_results = []\n",
    "        for split_id in range(len(self.splits_df)):\n",
    "            all_results.append(self.train(split_id))\n",
    "        return all_results\n",
    "            "
   ]
  },
  {
   "cell_type": "code",
   "execution_count": 7,
   "id": "54bbd723-dfad-4bc1-b2c9-02e23e75e024",
   "metadata": {},
   "outputs": [
    {
     "name": "stdout",
     "output_type": "stream",
     "text": [
      "Val Start Date: 2020-01-01T00:00:00.000000000\n",
      "9 -0.15501368854392716 -0.4625924541503692\n",
      "19 -0.1229341760256347 -0.4043315315079871\n",
      "29 -0.10514101024225915 -0.4096292725379551\n",
      "39 -0.15290116490651068 -0.5882549261180209\n",
      "49 -0.12077888420149926 -0.4224327535565252\n",
      "59 -0.11629448373536358 -0.4517571755655629\n",
      "69 -0.11868294205200472 -0.47063801670612343\n",
      "79 -0.10502715510049584 -0.3705387809304749\n",
      "89 -0.10448588715416633 -0.3630131134762803\n",
      "99 -0.10388818031241245 -0.3642393745773288\n",
      "109 -0.10714711934817307 -0.3831091510561913\n",
      "119 -0.11483592339556026 -0.48647989232790456\n",
      "129 -0.0720576982521378 -0.18318556546373532\n",
      "139 -0.11348571945834404 -0.3933062078260222\n",
      "149 -0.11997908885008642 -0.3461980547809574\n"
     ]
    },
    {
     "ename": "KeyboardInterrupt",
     "evalue": "",
     "output_type": "error",
     "traceback": [
      "\u001b[0;31m---------------------------------------------------------------------------\u001b[0m",
      "\u001b[0;31mKeyboardInterrupt\u001b[0m                         Traceback (most recent call last)",
      "Input \u001b[0;32mIn [7]\u001b[0m, in \u001b[0;36m<cell line: 6>\u001b[0;34m()\u001b[0m\n\u001b[1;32m      6\u001b[0m \u001b[38;5;28;01mfor\u001b[39;00m x \u001b[38;5;129;01min\u001b[39;00m [\u001b[38;5;241m1\u001b[39m,\u001b[38;5;241m0\u001b[39m]:\n\u001b[1;32m      7\u001b[0m     trainer \u001b[38;5;241m=\u001b[39m AgentTrainer(daily_prices, train_val_splits, \u001b[38;5;241m200\u001b[39m, \u001b[38;5;241m10\u001b[39m, \u001b[38;5;241m5\u001b[39m, model_params, pfstate\u001b[38;5;241m=\u001b[39mx)\n\u001b[0;32m----> 8\u001b[0m     results \u001b[38;5;241m=\u001b[39m \u001b[43mtrainer\u001b[49m\u001b[38;5;241;43m.\u001b[39;49m\u001b[43mtrain\u001b[49m\u001b[43m(\u001b[49m\u001b[38;5;28;43mlen\u001b[39;49m\u001b[43m(\u001b[49m\u001b[43mtrain_val_splits\u001b[49m\u001b[43m)\u001b[49m\u001b[38;5;241;43m-\u001b[39;49m\u001b[38;5;241;43m1\u001b[39;49m\u001b[43m)\u001b[49m\n\u001b[1;32m     10\u001b[0m     \u001b[38;5;28;01mfor\u001b[39;00m i \u001b[38;5;129;01min\u001b[39;00m \u001b[38;5;28mrange\u001b[39m(\u001b[38;5;241m2\u001b[39m):\n\u001b[1;32m     11\u001b[0m         ks \u001b[38;5;241m=\u001b[39m np\u001b[38;5;241m.\u001b[39marange(\u001b[38;5;241m20\u001b[39m) \u001b[38;5;241m*\u001b[39m \u001b[38;5;241m10\u001b[39m\n",
      "Input \u001b[0;32mIn [6]\u001b[0m, in \u001b[0;36mAgentTrainer.train\u001b[0;34m(self, split_id)\u001b[0m\n\u001b[1;32m     23\u001b[0m     \u001b[38;5;28;01mif\u001b[39;00m (eps\u001b[38;5;241m+\u001b[39m\u001b[38;5;241m1\u001b[39m) \u001b[38;5;241m%\u001b[39m \u001b[38;5;28mself\u001b[39m\u001b[38;5;241m.\u001b[39meval_frequency \u001b[38;5;241m==\u001b[39m \u001b[38;5;241m0\u001b[39m:\n\u001b[1;32m     24\u001b[0m         \u001b[38;5;28mself\u001b[39m\u001b[38;5;241m.\u001b[39mvalidate(eps)\n\u001b[0;32m---> 25\u001b[0m     \u001b[38;5;28;43mself\u001b[39;49m\u001b[38;5;241;43m.\u001b[39;49m\u001b[43mmodel\u001b[49m\u001b[38;5;241;43m.\u001b[39;49m\u001b[43mlearn\u001b[49m\u001b[43m(\u001b[49m\u001b[43mtotal_timesteps\u001b[49m\u001b[38;5;241;43m=\u001b[39;49m\u001b[38;5;28;43mself\u001b[39;49m\u001b[38;5;241;43m.\u001b[39;49m\u001b[43mtotal_timesteps\u001b[49m\u001b[43m)\u001b[49m\n\u001b[1;32m     26\u001b[0m \u001b[38;5;28;01mreturn\u001b[39;00m \u001b[38;5;28mself\u001b[39m\u001b[38;5;241m.\u001b[39mmean_rewards, \u001b[38;5;28mself\u001b[39m\u001b[38;5;241m.\u001b[39mmean_sharpes\n",
      "File \u001b[0;32m/zfsauton2/home/vduvvur/.conda/envs/myenv/lib/python3.9/site-packages/stable_baselines3/ppo/ppo.py:314\u001b[0m, in \u001b[0;36mPPO.learn\u001b[0;34m(self, total_timesteps, callback, log_interval, eval_env, eval_freq, n_eval_episodes, tb_log_name, eval_log_path, reset_num_timesteps)\u001b[0m\n\u001b[1;32m    301\u001b[0m \u001b[38;5;28;01mdef\u001b[39;00m \u001b[38;5;21mlearn\u001b[39m(\n\u001b[1;32m    302\u001b[0m     \u001b[38;5;28mself\u001b[39m: PPOSelf,\n\u001b[1;32m    303\u001b[0m     total_timesteps: \u001b[38;5;28mint\u001b[39m,\n\u001b[0;32m   (...)\u001b[0m\n\u001b[1;32m    311\u001b[0m     reset_num_timesteps: \u001b[38;5;28mbool\u001b[39m \u001b[38;5;241m=\u001b[39m \u001b[38;5;28;01mTrue\u001b[39;00m,\n\u001b[1;32m    312\u001b[0m ) \u001b[38;5;241m-\u001b[39m\u001b[38;5;241m>\u001b[39m PPOSelf:\n\u001b[0;32m--> 314\u001b[0m     \u001b[38;5;28;01mreturn\u001b[39;00m \u001b[38;5;28;43msuper\u001b[39;49m\u001b[43m(\u001b[49m\u001b[43m)\u001b[49m\u001b[38;5;241;43m.\u001b[39;49m\u001b[43mlearn\u001b[49m\u001b[43m(\u001b[49m\n\u001b[1;32m    315\u001b[0m \u001b[43m        \u001b[49m\u001b[43mtotal_timesteps\u001b[49m\u001b[38;5;241;43m=\u001b[39;49m\u001b[43mtotal_timesteps\u001b[49m\u001b[43m,\u001b[49m\n\u001b[1;32m    316\u001b[0m \u001b[43m        \u001b[49m\u001b[43mcallback\u001b[49m\u001b[38;5;241;43m=\u001b[39;49m\u001b[43mcallback\u001b[49m\u001b[43m,\u001b[49m\n\u001b[1;32m    317\u001b[0m \u001b[43m        \u001b[49m\u001b[43mlog_interval\u001b[49m\u001b[38;5;241;43m=\u001b[39;49m\u001b[43mlog_interval\u001b[49m\u001b[43m,\u001b[49m\n\u001b[1;32m    318\u001b[0m \u001b[43m        \u001b[49m\u001b[43meval_env\u001b[49m\u001b[38;5;241;43m=\u001b[39;49m\u001b[43meval_env\u001b[49m\u001b[43m,\u001b[49m\n\u001b[1;32m    319\u001b[0m \u001b[43m        \u001b[49m\u001b[43meval_freq\u001b[49m\u001b[38;5;241;43m=\u001b[39;49m\u001b[43meval_freq\u001b[49m\u001b[43m,\u001b[49m\n\u001b[1;32m    320\u001b[0m \u001b[43m        \u001b[49m\u001b[43mn_eval_episodes\u001b[49m\u001b[38;5;241;43m=\u001b[39;49m\u001b[43mn_eval_episodes\u001b[49m\u001b[43m,\u001b[49m\n\u001b[1;32m    321\u001b[0m \u001b[43m        \u001b[49m\u001b[43mtb_log_name\u001b[49m\u001b[38;5;241;43m=\u001b[39;49m\u001b[43mtb_log_name\u001b[49m\u001b[43m,\u001b[49m\n\u001b[1;32m    322\u001b[0m \u001b[43m        \u001b[49m\u001b[43meval_log_path\u001b[49m\u001b[38;5;241;43m=\u001b[39;49m\u001b[43meval_log_path\u001b[49m\u001b[43m,\u001b[49m\n\u001b[1;32m    323\u001b[0m \u001b[43m        \u001b[49m\u001b[43mreset_num_timesteps\u001b[49m\u001b[38;5;241;43m=\u001b[39;49m\u001b[43mreset_num_timesteps\u001b[49m\u001b[43m,\u001b[49m\n\u001b[1;32m    324\u001b[0m \u001b[43m    \u001b[49m\u001b[43m)\u001b[49m\n",
      "File \u001b[0;32m/zfsauton2/home/vduvvur/.conda/envs/myenv/lib/python3.9/site-packages/stable_baselines3/common/on_policy_algorithm.py:251\u001b[0m, in \u001b[0;36mOnPolicyAlgorithm.learn\u001b[0;34m(self, total_timesteps, callback, log_interval, eval_env, eval_freq, n_eval_episodes, tb_log_name, eval_log_path, reset_num_timesteps)\u001b[0m\n\u001b[1;32m    247\u001b[0m callback\u001b[38;5;241m.\u001b[39mon_training_start(\u001b[38;5;28mlocals\u001b[39m(), \u001b[38;5;28mglobals\u001b[39m())\n\u001b[1;32m    249\u001b[0m \u001b[38;5;28;01mwhile\u001b[39;00m \u001b[38;5;28mself\u001b[39m\u001b[38;5;241m.\u001b[39mnum_timesteps \u001b[38;5;241m<\u001b[39m total_timesteps:\n\u001b[0;32m--> 251\u001b[0m     continue_training \u001b[38;5;241m=\u001b[39m \u001b[38;5;28;43mself\u001b[39;49m\u001b[38;5;241;43m.\u001b[39;49m\u001b[43mcollect_rollouts\u001b[49m\u001b[43m(\u001b[49m\u001b[38;5;28;43mself\u001b[39;49m\u001b[38;5;241;43m.\u001b[39;49m\u001b[43menv\u001b[49m\u001b[43m,\u001b[49m\u001b[43m \u001b[49m\u001b[43mcallback\u001b[49m\u001b[43m,\u001b[49m\u001b[43m \u001b[49m\u001b[38;5;28;43mself\u001b[39;49m\u001b[38;5;241;43m.\u001b[39;49m\u001b[43mrollout_buffer\u001b[49m\u001b[43m,\u001b[49m\u001b[43m \u001b[49m\u001b[43mn_rollout_steps\u001b[49m\u001b[38;5;241;43m=\u001b[39;49m\u001b[38;5;28;43mself\u001b[39;49m\u001b[38;5;241;43m.\u001b[39;49m\u001b[43mn_steps\u001b[49m\u001b[43m)\u001b[49m\n\u001b[1;32m    253\u001b[0m     \u001b[38;5;28;01mif\u001b[39;00m continue_training \u001b[38;5;129;01mis\u001b[39;00m \u001b[38;5;28;01mFalse\u001b[39;00m:\n\u001b[1;32m    254\u001b[0m         \u001b[38;5;28;01mbreak\u001b[39;00m\n",
      "File \u001b[0;32m/zfsauton2/home/vduvvur/.conda/envs/myenv/lib/python3.9/site-packages/stable_baselines3/common/on_policy_algorithm.py:170\u001b[0m, in \u001b[0;36mOnPolicyAlgorithm.collect_rollouts\u001b[0;34m(self, env, callback, rollout_buffer, n_rollout_steps)\u001b[0m\n\u001b[1;32m    167\u001b[0m \u001b[38;5;28;01mwith\u001b[39;00m th\u001b[38;5;241m.\u001b[39mno_grad():\n\u001b[1;32m    168\u001b[0m     \u001b[38;5;66;03m# Convert to pytorch tensor or to TensorDict\u001b[39;00m\n\u001b[1;32m    169\u001b[0m     obs_tensor \u001b[38;5;241m=\u001b[39m obs_as_tensor(\u001b[38;5;28mself\u001b[39m\u001b[38;5;241m.\u001b[39m_last_obs, \u001b[38;5;28mself\u001b[39m\u001b[38;5;241m.\u001b[39mdevice)\n\u001b[0;32m--> 170\u001b[0m     actions, values, log_probs \u001b[38;5;241m=\u001b[39m \u001b[38;5;28;43mself\u001b[39;49m\u001b[38;5;241;43m.\u001b[39;49m\u001b[43mpolicy\u001b[49m\u001b[43m(\u001b[49m\u001b[43mobs_tensor\u001b[49m\u001b[43m)\u001b[49m\n\u001b[1;32m    171\u001b[0m actions \u001b[38;5;241m=\u001b[39m actions\u001b[38;5;241m.\u001b[39mcpu()\u001b[38;5;241m.\u001b[39mnumpy()\n\u001b[1;32m    173\u001b[0m \u001b[38;5;66;03m# Rescale and perform action\u001b[39;00m\n",
      "File \u001b[0;32m/zfsauton2/home/vduvvur/.conda/envs/myenv/lib/python3.9/site-packages/torch/nn/modules/module.py:1130\u001b[0m, in \u001b[0;36mModule._call_impl\u001b[0;34m(self, *input, **kwargs)\u001b[0m\n\u001b[1;32m   1126\u001b[0m \u001b[38;5;66;03m# If we don't have any hooks, we want to skip the rest of the logic in\u001b[39;00m\n\u001b[1;32m   1127\u001b[0m \u001b[38;5;66;03m# this function, and just call forward.\u001b[39;00m\n\u001b[1;32m   1128\u001b[0m \u001b[38;5;28;01mif\u001b[39;00m \u001b[38;5;129;01mnot\u001b[39;00m (\u001b[38;5;28mself\u001b[39m\u001b[38;5;241m.\u001b[39m_backward_hooks \u001b[38;5;129;01mor\u001b[39;00m \u001b[38;5;28mself\u001b[39m\u001b[38;5;241m.\u001b[39m_forward_hooks \u001b[38;5;129;01mor\u001b[39;00m \u001b[38;5;28mself\u001b[39m\u001b[38;5;241m.\u001b[39m_forward_pre_hooks \u001b[38;5;129;01mor\u001b[39;00m _global_backward_hooks\n\u001b[1;32m   1129\u001b[0m         \u001b[38;5;129;01mor\u001b[39;00m _global_forward_hooks \u001b[38;5;129;01mor\u001b[39;00m _global_forward_pre_hooks):\n\u001b[0;32m-> 1130\u001b[0m     \u001b[38;5;28;01mreturn\u001b[39;00m \u001b[43mforward_call\u001b[49m\u001b[43m(\u001b[49m\u001b[38;5;241;43m*\u001b[39;49m\u001b[38;5;28;43minput\u001b[39;49m\u001b[43m,\u001b[49m\u001b[43m \u001b[49m\u001b[38;5;241;43m*\u001b[39;49m\u001b[38;5;241;43m*\u001b[39;49m\u001b[43mkwargs\u001b[49m\u001b[43m)\u001b[49m\n\u001b[1;32m   1131\u001b[0m \u001b[38;5;66;03m# Do not call functions when jit is used\u001b[39;00m\n\u001b[1;32m   1132\u001b[0m full_backward_hooks, non_full_backward_hooks \u001b[38;5;241m=\u001b[39m [], []\n",
      "File \u001b[0;32m/zfsauton2/home/vduvvur/.conda/envs/myenv/lib/python3.9/site-packages/stable_baselines3/common/policies.py:587\u001b[0m, in \u001b[0;36mActorCriticPolicy.forward\u001b[0;34m(self, obs, deterministic)\u001b[0m\n\u001b[1;32m    585\u001b[0m \u001b[38;5;66;03m# Preprocess the observation if needed\u001b[39;00m\n\u001b[1;32m    586\u001b[0m features \u001b[38;5;241m=\u001b[39m \u001b[38;5;28mself\u001b[39m\u001b[38;5;241m.\u001b[39mextract_features(obs)\n\u001b[0;32m--> 587\u001b[0m latent_pi, latent_vf \u001b[38;5;241m=\u001b[39m \u001b[38;5;28;43mself\u001b[39;49m\u001b[38;5;241;43m.\u001b[39;49m\u001b[43mmlp_extractor\u001b[49m\u001b[43m(\u001b[49m\u001b[43mfeatures\u001b[49m\u001b[43m)\u001b[49m\n\u001b[1;32m    588\u001b[0m \u001b[38;5;66;03m# Evaluate the values for the given observations\u001b[39;00m\n\u001b[1;32m    589\u001b[0m values \u001b[38;5;241m=\u001b[39m \u001b[38;5;28mself\u001b[39m\u001b[38;5;241m.\u001b[39mvalue_net(latent_vf)\n",
      "File \u001b[0;32m/zfsauton2/home/vduvvur/.conda/envs/myenv/lib/python3.9/site-packages/torch/nn/modules/module.py:1130\u001b[0m, in \u001b[0;36mModule._call_impl\u001b[0;34m(self, *input, **kwargs)\u001b[0m\n\u001b[1;32m   1126\u001b[0m \u001b[38;5;66;03m# If we don't have any hooks, we want to skip the rest of the logic in\u001b[39;00m\n\u001b[1;32m   1127\u001b[0m \u001b[38;5;66;03m# this function, and just call forward.\u001b[39;00m\n\u001b[1;32m   1128\u001b[0m \u001b[38;5;28;01mif\u001b[39;00m \u001b[38;5;129;01mnot\u001b[39;00m (\u001b[38;5;28mself\u001b[39m\u001b[38;5;241m.\u001b[39m_backward_hooks \u001b[38;5;129;01mor\u001b[39;00m \u001b[38;5;28mself\u001b[39m\u001b[38;5;241m.\u001b[39m_forward_hooks \u001b[38;5;129;01mor\u001b[39;00m \u001b[38;5;28mself\u001b[39m\u001b[38;5;241m.\u001b[39m_forward_pre_hooks \u001b[38;5;129;01mor\u001b[39;00m _global_backward_hooks\n\u001b[1;32m   1129\u001b[0m         \u001b[38;5;129;01mor\u001b[39;00m _global_forward_hooks \u001b[38;5;129;01mor\u001b[39;00m _global_forward_pre_hooks):\n\u001b[0;32m-> 1130\u001b[0m     \u001b[38;5;28;01mreturn\u001b[39;00m \u001b[43mforward_call\u001b[49m\u001b[43m(\u001b[49m\u001b[38;5;241;43m*\u001b[39;49m\u001b[38;5;28;43minput\u001b[39;49m\u001b[43m,\u001b[49m\u001b[43m \u001b[49m\u001b[38;5;241;43m*\u001b[39;49m\u001b[38;5;241;43m*\u001b[39;49m\u001b[43mkwargs\u001b[49m\u001b[43m)\u001b[49m\n\u001b[1;32m   1131\u001b[0m \u001b[38;5;66;03m# Do not call functions when jit is used\u001b[39;00m\n\u001b[1;32m   1132\u001b[0m full_backward_hooks, non_full_backward_hooks \u001b[38;5;241m=\u001b[39m [], []\n",
      "File \u001b[0;32m/zfsauton2/home/vduvvur/.conda/envs/myenv/lib/python3.9/site-packages/stable_baselines3/common/torch_layers.py:230\u001b[0m, in \u001b[0;36mMlpExtractor.forward\u001b[0;34m(self, features)\u001b[0m\n\u001b[1;32m    225\u001b[0m \u001b[38;5;124;03m\"\"\"\u001b[39;00m\n\u001b[1;32m    226\u001b[0m \u001b[38;5;124;03m:return: latent_policy, latent_value of the specified network.\u001b[39;00m\n\u001b[1;32m    227\u001b[0m \u001b[38;5;124;03m    If all layers are shared, then ``latent_policy == latent_value``\u001b[39;00m\n\u001b[1;32m    228\u001b[0m \u001b[38;5;124;03m\"\"\"\u001b[39;00m\n\u001b[1;32m    229\u001b[0m shared_latent \u001b[38;5;241m=\u001b[39m \u001b[38;5;28mself\u001b[39m\u001b[38;5;241m.\u001b[39mshared_net(features)\n\u001b[0;32m--> 230\u001b[0m \u001b[38;5;28;01mreturn\u001b[39;00m \u001b[38;5;28;43mself\u001b[39;49m\u001b[38;5;241;43m.\u001b[39;49m\u001b[43mpolicy_net\u001b[49m\u001b[43m(\u001b[49m\u001b[43mshared_latent\u001b[49m\u001b[43m)\u001b[49m, \u001b[38;5;28mself\u001b[39m\u001b[38;5;241m.\u001b[39mvalue_net(shared_latent)\n",
      "File \u001b[0;32m/zfsauton2/home/vduvvur/.conda/envs/myenv/lib/python3.9/site-packages/torch/nn/modules/module.py:1130\u001b[0m, in \u001b[0;36mModule._call_impl\u001b[0;34m(self, *input, **kwargs)\u001b[0m\n\u001b[1;32m   1126\u001b[0m \u001b[38;5;66;03m# If we don't have any hooks, we want to skip the rest of the logic in\u001b[39;00m\n\u001b[1;32m   1127\u001b[0m \u001b[38;5;66;03m# this function, and just call forward.\u001b[39;00m\n\u001b[1;32m   1128\u001b[0m \u001b[38;5;28;01mif\u001b[39;00m \u001b[38;5;129;01mnot\u001b[39;00m (\u001b[38;5;28mself\u001b[39m\u001b[38;5;241m.\u001b[39m_backward_hooks \u001b[38;5;129;01mor\u001b[39;00m \u001b[38;5;28mself\u001b[39m\u001b[38;5;241m.\u001b[39m_forward_hooks \u001b[38;5;129;01mor\u001b[39;00m \u001b[38;5;28mself\u001b[39m\u001b[38;5;241m.\u001b[39m_forward_pre_hooks \u001b[38;5;129;01mor\u001b[39;00m _global_backward_hooks\n\u001b[1;32m   1129\u001b[0m         \u001b[38;5;129;01mor\u001b[39;00m _global_forward_hooks \u001b[38;5;129;01mor\u001b[39;00m _global_forward_pre_hooks):\n\u001b[0;32m-> 1130\u001b[0m     \u001b[38;5;28;01mreturn\u001b[39;00m \u001b[43mforward_call\u001b[49m\u001b[43m(\u001b[49m\u001b[38;5;241;43m*\u001b[39;49m\u001b[38;5;28;43minput\u001b[39;49m\u001b[43m,\u001b[49m\u001b[43m \u001b[49m\u001b[38;5;241;43m*\u001b[39;49m\u001b[38;5;241;43m*\u001b[39;49m\u001b[43mkwargs\u001b[49m\u001b[43m)\u001b[49m\n\u001b[1;32m   1131\u001b[0m \u001b[38;5;66;03m# Do not call functions when jit is used\u001b[39;00m\n\u001b[1;32m   1132\u001b[0m full_backward_hooks, non_full_backward_hooks \u001b[38;5;241m=\u001b[39m [], []\n",
      "File \u001b[0;32m/zfsauton2/home/vduvvur/.conda/envs/myenv/lib/python3.9/site-packages/torch/nn/modules/container.py:139\u001b[0m, in \u001b[0;36mSequential.forward\u001b[0;34m(self, input)\u001b[0m\n\u001b[1;32m    137\u001b[0m \u001b[38;5;28;01mdef\u001b[39;00m \u001b[38;5;21mforward\u001b[39m(\u001b[38;5;28mself\u001b[39m, \u001b[38;5;28minput\u001b[39m):\n\u001b[1;32m    138\u001b[0m     \u001b[38;5;28;01mfor\u001b[39;00m module \u001b[38;5;129;01min\u001b[39;00m \u001b[38;5;28mself\u001b[39m:\n\u001b[0;32m--> 139\u001b[0m         \u001b[38;5;28minput\u001b[39m \u001b[38;5;241m=\u001b[39m \u001b[43mmodule\u001b[49m\u001b[43m(\u001b[49m\u001b[38;5;28;43minput\u001b[39;49m\u001b[43m)\u001b[49m\n\u001b[1;32m    140\u001b[0m     \u001b[38;5;28;01mreturn\u001b[39;00m \u001b[38;5;28minput\u001b[39m\n",
      "File \u001b[0;32m/zfsauton2/home/vduvvur/.conda/envs/myenv/lib/python3.9/site-packages/torch/nn/modules/module.py:1130\u001b[0m, in \u001b[0;36mModule._call_impl\u001b[0;34m(self, *input, **kwargs)\u001b[0m\n\u001b[1;32m   1126\u001b[0m \u001b[38;5;66;03m# If we don't have any hooks, we want to skip the rest of the logic in\u001b[39;00m\n\u001b[1;32m   1127\u001b[0m \u001b[38;5;66;03m# this function, and just call forward.\u001b[39;00m\n\u001b[1;32m   1128\u001b[0m \u001b[38;5;28;01mif\u001b[39;00m \u001b[38;5;129;01mnot\u001b[39;00m (\u001b[38;5;28mself\u001b[39m\u001b[38;5;241m.\u001b[39m_backward_hooks \u001b[38;5;129;01mor\u001b[39;00m \u001b[38;5;28mself\u001b[39m\u001b[38;5;241m.\u001b[39m_forward_hooks \u001b[38;5;129;01mor\u001b[39;00m \u001b[38;5;28mself\u001b[39m\u001b[38;5;241m.\u001b[39m_forward_pre_hooks \u001b[38;5;129;01mor\u001b[39;00m _global_backward_hooks\n\u001b[1;32m   1129\u001b[0m         \u001b[38;5;129;01mor\u001b[39;00m _global_forward_hooks \u001b[38;5;129;01mor\u001b[39;00m _global_forward_pre_hooks):\n\u001b[0;32m-> 1130\u001b[0m     \u001b[38;5;28;01mreturn\u001b[39;00m \u001b[43mforward_call\u001b[49m\u001b[43m(\u001b[49m\u001b[38;5;241;43m*\u001b[39;49m\u001b[38;5;28;43minput\u001b[39;49m\u001b[43m,\u001b[49m\u001b[43m \u001b[49m\u001b[38;5;241;43m*\u001b[39;49m\u001b[38;5;241;43m*\u001b[39;49m\u001b[43mkwargs\u001b[49m\u001b[43m)\u001b[49m\n\u001b[1;32m   1131\u001b[0m \u001b[38;5;66;03m# Do not call functions when jit is used\u001b[39;00m\n\u001b[1;32m   1132\u001b[0m full_backward_hooks, non_full_backward_hooks \u001b[38;5;241m=\u001b[39m [], []\n",
      "File \u001b[0;32m/zfsauton2/home/vduvvur/.conda/envs/myenv/lib/python3.9/site-packages/torch/nn/modules/linear.py:114\u001b[0m, in \u001b[0;36mLinear.forward\u001b[0;34m(self, input)\u001b[0m\n\u001b[1;32m    113\u001b[0m \u001b[38;5;28;01mdef\u001b[39;00m \u001b[38;5;21mforward\u001b[39m(\u001b[38;5;28mself\u001b[39m, \u001b[38;5;28minput\u001b[39m: Tensor) \u001b[38;5;241m-\u001b[39m\u001b[38;5;241m>\u001b[39m Tensor:\n\u001b[0;32m--> 114\u001b[0m     \u001b[38;5;28;01mreturn\u001b[39;00m \u001b[43mF\u001b[49m\u001b[38;5;241;43m.\u001b[39;49m\u001b[43mlinear\u001b[49m\u001b[43m(\u001b[49m\u001b[38;5;28;43minput\u001b[39;49m\u001b[43m,\u001b[49m\u001b[43m \u001b[49m\u001b[38;5;28;43mself\u001b[39;49m\u001b[38;5;241;43m.\u001b[39;49m\u001b[43mweight\u001b[49m\u001b[43m,\u001b[49m\u001b[43m \u001b[49m\u001b[38;5;28;43mself\u001b[39;49m\u001b[38;5;241;43m.\u001b[39;49m\u001b[43mbias\u001b[49m\u001b[43m)\u001b[49m\n",
      "\u001b[0;31mKeyboardInterrupt\u001b[0m: "
     ]
    },
    {
     "data": {
      "image/png": "[encoded data removed]",
      "text/plain": [
       "<Figure size 1000x300 with 2 Axes>"
      ]
     },
     "metadata": {},
     "output_type": "display_data"
    }
   ],
   "source": [
    "model_params = {'type':'PPO'}\n",
    "# model_params = {'type':'A2C', 'lr':0.0007}\n",
    "\n",
    "fig,axs = plt.subplots(1,2, figsize=(10,3))\n",
    "\n",
    "for x in [1,0]:\n",
    "    trainer = AgentTrainer(daily_prices, train_val_splits, 200, 10, 5, model_params, pfstate=x)\n",
    "    results = trainer.train(len(train_val_splits)-1)\n",
    "\n",
    "    for i in range(2):\n",
    "        ks = np.arange(20) * 10\n",
    "        avs = np.mean(results[i], axis=0)\n",
    "        maxs = np.max(results[i], axis=0)\n",
    "        mins = np.min(results[i], axis=0)\n",
    "\n",
    "        axs[i].fill_between(ks, mins, maxs, alpha=0.1)\n",
    "        if x:\n",
    "            axs[i].plot(ks, avs, '-o', markersize=1, label='portfolio in state')\n",
    "            print(\"Portfolio\", \"returns\" if i == 0 else \"sharpe\", avs[-1])\n",
    "        else:\n",
    "            axs[i].plot(ks, avs, '-o', markersize=1, label='no portfolio')\n",
    "            print(\"No Portfolio\", \"returns\" if i == 0 else \"sharpe\", avs[-1])\n",
    "        axs[i].legend()\n",
    "        axs[i].set_xlabel('Episode', fontsize=12)\n",
    "        if i == 0:\n",
    "            axs[i].set_ylabel('Return', fontsize=12)\n",
    "        else:\n",
    "            axs[i].set_ylabel('Sharpe', fontsize=12)\n",
    "plt.suptitle(model_params['type'], fontsize=16)\n",
    "\n",
    "plt.savefig(\"./plots/hold_state/{}_curve_oracle.png\".format(model_params['type']))"
   ]
  },
  {
   "cell_type": "code",
   "execution_count": 38,
   "id": "81b7c665-0e2b-48a5-9531-1419f6e200f2",
   "metadata": {},
   "outputs": [
    {
     "name": "stdout",
     "output_type": "stream",
     "text": [
      "(3, 20)\n",
      "[2.87270328 4.3209423  5.7836333  6.75525003 7.36123049 7.74084808\n",
      " 7.93297357 7.54159418 6.77080133 4.65954061 4.59100397 4.21396659\n",
      " 3.66446371 3.30881031 5.33129529 6.83524749 7.64866766 7.92801999\n",
      " 6.93899676 6.58757829]\n",
      "[4.46702750e-01 3.89557674e-03 1.26679578e-04 4.66200780e-01\n",
      " 0.00000000e+00 0.00000000e+00 0.00000000e+00 0.00000000e+00\n",
      " 0.00000000e+00 4.65249129e-01 1.35938148e-04 6.60856325e-04\n",
      " 1.13671253e-03 9.68624990e-03 8.19693471e-03 1.55093512e-03\n",
      " 4.67883671e-01 0.00000000e+00 0.00000000e+00 4.54005149e-01]\n"
     ]
    }
   ],
   "source": [
    "print(results[0].shape)\n",
    "print(np.mean(results[0],axis=0))\n",
    "print(np.std(results[0],axis=0))\n"
   ]
  },
  {
   "cell_type": "code",
   "execution_count": null,
   "id": "b68ab118",
   "metadata": {},
   "outputs": [],
   "source": []
  }
 ],
 "metadata": {
  "kernelspec": {
   "display_name": "Python 3 (ipykernel)",
   "language": "python",
   "name": "python3"
  },
  "language_info": {
   "codemirror_mode": {
    "name": "ipython",
    "version": 3
   },
   "file_extension": ".py",
   "mimetype": "text/x-python",
   "name": "python",
   "nbconvert_exporter": "python",
   "pygments_lexer": "ipython3",
   "version": "3.9.13"
  }
 },
 "nbformat": 4,
 "nbformat_minor": 5
}
