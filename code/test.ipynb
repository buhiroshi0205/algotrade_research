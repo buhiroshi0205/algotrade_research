{
 "cells": [
  {
   "cell_type": "code",
   "execution_count": 1,
   "id": "7c06937d-16fc-4f9a-a411-0c101ab8d2f1",
   "metadata": {},
   "outputs": [],
   "source": [
    "import dataset"
   ]
  },
  {
   "cell_type": "code",
   "execution_count": 3,
   "id": "f32e045d-08ca-4127-bc70-aa36c1e48965",
   "metadata": {},
   "outputs": [],
   "source": [
    "import os\n",
    "import pandas as pd\n",
    "import datetime as dt"
   ]
  },
  {
   "cell_type": "code",
   "execution_count": 8,
   "id": "2fc17893-cc22-4f94-8c7e-a42d35b1e240",
   "metadata": {},
   "outputs": [],
   "source": [
    "filename = os.path.join(\"data\", \"Day Data with Volatility\", f\"NESZ MK Equity.csv\")\n",
    "df = pd.read_csv(filename)\n",
    "_, ds, _ = dataset.get_daily_dataset(df, 30, dt.datetime(2018, 1, 1), dt.datetime(2020, 1, 1))\n",
    "_, ffd, _ = dataset.get_ffd_dataset(df, 30, dt.datetime(2018, 1, 1), dt.datetime(2020, 1, 1))"
   ]
  },
  {
   "cell_type": "code",
   "execution_count": 27,
   "id": "a94e8bdd-a4c3-4b5f-9213-6eac116bafca",
   "metadata": {},
   "outputs": [
    {
     "data": {
      "text/plain": [
       "tensor([-2.1083, -2.1367, -2.2712, -1.9483, -0.1592, -2.2032, -1.6744, -1.5899,\n",
       "        -1.4455, -1.4581, -1.4398, -1.3951, -1.4211, -1.4128, -1.4831, -1.5427,\n",
       "        -1.5068,  0.1067, -0.4015, -0.3874, -1.6823, -1.6174,  0.4287,  0.5985,\n",
       "         0.6356,  0.6602,  0.0000,  1.0000,  0.0000,  0.0000,  0.0000,  0.0000,\n",
       "         0.0000,  0.0000,  1.0000], dtype=torch.float64)"
      ]
     },
     "execution_count": 27,
     "metadata": {},
     "output_type": "execute_result"
    }
   ],
   "source": [
    "ds[0][0][0]"
   ]
  },
  {
   "cell_type": "code",
   "execution_count": 28,
   "id": "fcf06b5d-3aea-437e-b5bb-59ef73dc1ac2",
   "metadata": {},
   "outputs": [
    {
     "data": {
      "text/plain": [
       "tensor([ 2.1571,  2.1601,  2.1737,  2.1642,  2.1725,  2.1678,  2.1967,  2.1666,\n",
       "         2.1271,  2.0925,  2.0691,  2.0597,  2.0508,  2.0401,  2.0330,  2.0004,\n",
       "         1.9815, -0.4315,  0.4114,  0.8438,  1.5641,     nan,     nan,     nan,\n",
       "            nan], dtype=torch.float64)"
      ]
     },
     "execution_count": 28,
     "metadata": {},
     "output_type": "execute_result"
    }
   ],
   "source": [
    "ffd[0][0][0]"
   ]
  },
  {
   "cell_type": "code",
   "execution_count": null,
   "id": "ab7d0405-4fd1-4487-9376-da67a095dff2",
   "metadata": {},
   "outputs": [],
   "source": []
  }
 ],
 "metadata": {
  "kernelspec": {
   "display_name": "Python 3 (ipykernel)",
   "language": "python",
   "name": "python3"
  },
  "language_info": {
   "codemirror_mode": {
    "name": "ipython",
    "version": 3
   },
   "file_extension": ".py",
   "mimetype": "text/x-python",
   "name": "python",
   "nbconvert_exporter": "python",
   "pygments_lexer": "ipython3",
   "version": "3.10.4"
  }
 },
 "nbformat": 4,
 "nbformat_minor": 5
}
